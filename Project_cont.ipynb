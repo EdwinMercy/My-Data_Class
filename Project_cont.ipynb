{
 "cells": [
  {
   "cell_type": "code",
   "execution_count": 1,
   "id": "7d5b37e6",
   "metadata": {},
   "outputs": [],
   "source": [
    "import pandas as pd\n",
    "import numpy as np\n",
    "import matplotlib.pyplot as plt\n",
    "import seaborn as sns\n",
    "import plotly.express as px\n",
    "import sklearn\n",
    "from sklearn.model_selection import train_test_split\n",
    "import os"
   ]
  },
  {
   "cell_type": "code",
   "execution_count": 2,
   "id": "cdc97ec3",
   "metadata": {},
   "outputs": [],
   "source": [
    "df=pd.read_csv('imdb_top_1000.csv')"
   ]
  },
  {
   "cell_type": "code",
   "execution_count": 3,
   "id": "c851cf33",
   "metadata": {},
   "outputs": [
    {
     "data": {
      "text/html": [
       "<div>\n",
       "<style scoped>\n",
       "    .dataframe tbody tr th:only-of-type {\n",
       "        vertical-align: middle;\n",
       "    }\n",
       "\n",
       "    .dataframe tbody tr th {\n",
       "        vertical-align: top;\n",
       "    }\n",
       "\n",
       "    .dataframe thead th {\n",
       "        text-align: right;\n",
       "    }\n",
       "</style>\n",
       "<table border=\"1\" class=\"dataframe\">\n",
       "  <thead>\n",
       "    <tr style=\"text-align: right;\">\n",
       "      <th></th>\n",
       "      <th>Poster_Link</th>\n",
       "      <th>Series_Title</th>\n",
       "      <th>Released_Year</th>\n",
       "      <th>Certificate</th>\n",
       "      <th>Runtime</th>\n",
       "      <th>Genre</th>\n",
       "      <th>IMDB_Rating</th>\n",
       "      <th>Overview</th>\n",
       "      <th>Meta_score</th>\n",
       "      <th>Director</th>\n",
       "      <th>Star1</th>\n",
       "      <th>Star2</th>\n",
       "      <th>Star3</th>\n",
       "      <th>Star4</th>\n",
       "      <th>No_of_Votes</th>\n",
       "      <th>Gross</th>\n",
       "    </tr>\n",
       "  </thead>\n",
       "  <tbody>\n",
       "    <tr>\n",
       "      <th>0</th>\n",
       "      <td>https://m.media-amazon.com/images/M/MV5BMDFkYT...</td>\n",
       "      <td>The Shawshank Redemption</td>\n",
       "      <td>1994</td>\n",
       "      <td>A</td>\n",
       "      <td>142 min</td>\n",
       "      <td>Drama</td>\n",
       "      <td>9.3</td>\n",
       "      <td>Two imprisoned men bond over a number of years...</td>\n",
       "      <td>80.0</td>\n",
       "      <td>Frank Darabont</td>\n",
       "      <td>Tim Robbins</td>\n",
       "      <td>Morgan Freeman</td>\n",
       "      <td>Bob Gunton</td>\n",
       "      <td>William Sadler</td>\n",
       "      <td>2343110</td>\n",
       "      <td>28,341,469</td>\n",
       "    </tr>\n",
       "    <tr>\n",
       "      <th>1</th>\n",
       "      <td>https://m.media-amazon.com/images/M/MV5BM2MyNj...</td>\n",
       "      <td>The Godfather</td>\n",
       "      <td>1972</td>\n",
       "      <td>A</td>\n",
       "      <td>175 min</td>\n",
       "      <td>Crime, Drama</td>\n",
       "      <td>9.2</td>\n",
       "      <td>An organized crime dynasty's aging patriarch t...</td>\n",
       "      <td>100.0</td>\n",
       "      <td>Francis Ford Coppola</td>\n",
       "      <td>Marlon Brando</td>\n",
       "      <td>Al Pacino</td>\n",
       "      <td>James Caan</td>\n",
       "      <td>Diane Keaton</td>\n",
       "      <td>1620367</td>\n",
       "      <td>134,966,411</td>\n",
       "    </tr>\n",
       "    <tr>\n",
       "      <th>2</th>\n",
       "      <td>https://m.media-amazon.com/images/M/MV5BMTMxNT...</td>\n",
       "      <td>The Dark Knight</td>\n",
       "      <td>2008</td>\n",
       "      <td>UA</td>\n",
       "      <td>152 min</td>\n",
       "      <td>Action, Crime, Drama</td>\n",
       "      <td>9.0</td>\n",
       "      <td>When the menace known as the Joker wreaks havo...</td>\n",
       "      <td>84.0</td>\n",
       "      <td>Christopher Nolan</td>\n",
       "      <td>Christian Bale</td>\n",
       "      <td>Heath Ledger</td>\n",
       "      <td>Aaron Eckhart</td>\n",
       "      <td>Michael Caine</td>\n",
       "      <td>2303232</td>\n",
       "      <td>534,858,444</td>\n",
       "    </tr>\n",
       "    <tr>\n",
       "      <th>3</th>\n",
       "      <td>https://m.media-amazon.com/images/M/MV5BMWMwMG...</td>\n",
       "      <td>The Godfather: Part II</td>\n",
       "      <td>1974</td>\n",
       "      <td>A</td>\n",
       "      <td>202 min</td>\n",
       "      <td>Crime, Drama</td>\n",
       "      <td>9.0</td>\n",
       "      <td>The early life and career of Vito Corleone in ...</td>\n",
       "      <td>90.0</td>\n",
       "      <td>Francis Ford Coppola</td>\n",
       "      <td>Al Pacino</td>\n",
       "      <td>Robert De Niro</td>\n",
       "      <td>Robert Duvall</td>\n",
       "      <td>Diane Keaton</td>\n",
       "      <td>1129952</td>\n",
       "      <td>57,300,000</td>\n",
       "    </tr>\n",
       "    <tr>\n",
       "      <th>4</th>\n",
       "      <td>https://m.media-amazon.com/images/M/MV5BMWU4N2...</td>\n",
       "      <td>12 Angry Men</td>\n",
       "      <td>1957</td>\n",
       "      <td>U</td>\n",
       "      <td>96 min</td>\n",
       "      <td>Crime, Drama</td>\n",
       "      <td>9.0</td>\n",
       "      <td>A jury holdout attempts to prevent a miscarria...</td>\n",
       "      <td>96.0</td>\n",
       "      <td>Sidney Lumet</td>\n",
       "      <td>Henry Fonda</td>\n",
       "      <td>Lee J. Cobb</td>\n",
       "      <td>Martin Balsam</td>\n",
       "      <td>John Fiedler</td>\n",
       "      <td>689845</td>\n",
       "      <td>4,360,000</td>\n",
       "    </tr>\n",
       "  </tbody>\n",
       "</table>\n",
       "</div>"
      ],
      "text/plain": [
       "                                         Poster_Link  \\\n",
       "0  https://m.media-amazon.com/images/M/MV5BMDFkYT...   \n",
       "1  https://m.media-amazon.com/images/M/MV5BM2MyNj...   \n",
       "2  https://m.media-amazon.com/images/M/MV5BMTMxNT...   \n",
       "3  https://m.media-amazon.com/images/M/MV5BMWMwMG...   \n",
       "4  https://m.media-amazon.com/images/M/MV5BMWU4N2...   \n",
       "\n",
       "               Series_Title Released_Year Certificate  Runtime  \\\n",
       "0  The Shawshank Redemption          1994           A  142 min   \n",
       "1             The Godfather          1972           A  175 min   \n",
       "2           The Dark Knight          2008          UA  152 min   \n",
       "3    The Godfather: Part II          1974           A  202 min   \n",
       "4              12 Angry Men          1957           U   96 min   \n",
       "\n",
       "                  Genre  IMDB_Rating  \\\n",
       "0                 Drama          9.3   \n",
       "1          Crime, Drama          9.2   \n",
       "2  Action, Crime, Drama          9.0   \n",
       "3          Crime, Drama          9.0   \n",
       "4          Crime, Drama          9.0   \n",
       "\n",
       "                                            Overview  Meta_score  \\\n",
       "0  Two imprisoned men bond over a number of years...        80.0   \n",
       "1  An organized crime dynasty's aging patriarch t...       100.0   \n",
       "2  When the menace known as the Joker wreaks havo...        84.0   \n",
       "3  The early life and career of Vito Corleone in ...        90.0   \n",
       "4  A jury holdout attempts to prevent a miscarria...        96.0   \n",
       "\n",
       "               Director           Star1           Star2          Star3  \\\n",
       "0        Frank Darabont     Tim Robbins  Morgan Freeman     Bob Gunton   \n",
       "1  Francis Ford Coppola   Marlon Brando       Al Pacino     James Caan   \n",
       "2     Christopher Nolan  Christian Bale    Heath Ledger  Aaron Eckhart   \n",
       "3  Francis Ford Coppola       Al Pacino  Robert De Niro  Robert Duvall   \n",
       "4          Sidney Lumet     Henry Fonda     Lee J. Cobb  Martin Balsam   \n",
       "\n",
       "            Star4  No_of_Votes        Gross  \n",
       "0  William Sadler      2343110   28,341,469  \n",
       "1    Diane Keaton      1620367  134,966,411  \n",
       "2   Michael Caine      2303232  534,858,444  \n",
       "3    Diane Keaton      1129952   57,300,000  \n",
       "4    John Fiedler       689845    4,360,000  "
      ]
     },
     "execution_count": 3,
     "metadata": {},
     "output_type": "execute_result"
    }
   ],
   "source": [
    "df.head()"
   ]
  },
  {
   "cell_type": "code",
   "execution_count": 4,
   "id": "32af1741",
   "metadata": {},
   "outputs": [
    {
     "data": {
      "text/plain": [
       "Poster_Link        0\n",
       "Series_Title       0\n",
       "Released_Year      0\n",
       "Certificate      101\n",
       "Runtime            0\n",
       "Genre              0\n",
       "IMDB_Rating        0\n",
       "Overview           0\n",
       "Meta_score       157\n",
       "Director           0\n",
       "Star1              0\n",
       "Star2              0\n",
       "Star3              0\n",
       "Star4              0\n",
       "No_of_Votes        0\n",
       "Gross            169\n",
       "dtype: int64"
      ]
     },
     "execution_count": 4,
     "metadata": {},
     "output_type": "execute_result"
    }
   ],
   "source": [
    "df.isnull().sum()"
   ]
  },
  {
   "cell_type": "code",
   "execution_count": 5,
   "id": "eb5d02ac",
   "metadata": {
    "scrolled": true
   },
   "outputs": [
    {
     "data": {
      "text/plain": [
       "Index(['Poster_Link', 'Series_Title', 'Released_Year', 'Certificate',\n",
       "       'Runtime', 'Genre', 'IMDB_Rating', 'Overview', 'Meta_score', 'Director',\n",
       "       'Star1', 'Star2', 'Star3', 'Star4', 'No_of_Votes', 'Gross'],\n",
       "      dtype='object')"
      ]
     },
     "execution_count": 5,
     "metadata": {},
     "output_type": "execute_result"
    }
   ],
   "source": [
    "df.columns"
   ]
  },
  {
   "cell_type": "code",
   "execution_count": 6,
   "id": "58972f7a",
   "metadata": {},
   "outputs": [
    {
     "name": "stdout",
     "output_type": "stream",
     "text": [
      "Drama                         85\n",
      "Drama, Romance                37\n",
      "Comedy, Drama                 35\n",
      "Comedy, Drama, Romance        31\n",
      "Action, Crime, Drama          30\n",
      "                              ..\n",
      "Crime, Film-Noir, Thriller     1\n",
      "Crime, Drama, History          1\n",
      "Thriller                       1\n",
      "Comedy, Crime, Thriller        1\n",
      "Comedy, Crime, Sport           1\n",
      "Name: Genre, Length: 202, dtype: int64\n"
     ]
    }
   ],
   "source": [
    "print(df['Genre'].value_counts())\n"
   ]
  },
  {
   "cell_type": "code",
   "execution_count": 7,
   "id": "957b78bd",
   "metadata": {},
   "outputs": [
    {
     "name": "stdout",
     "output_type": "stream",
     "text": [
      "Drishyam                       2\n",
      "Minority Report                1\n",
      "Raazi                          1\n",
      "Jojo Rabbit                    1\n",
      "Baahubali 2: The Conclusion    1\n",
      "                              ..\n",
      "Rashômon                       1\n",
      "Mulan                          1\n",
      "Kung fu                        1\n",
      "Gattaca                        1\n",
      "Tombstone                      1\n",
      "Name: Series_Title, Length: 999, dtype: int64\n"
     ]
    }
   ],
   "source": [
    "print(df['Series_Title'].value_counts())"
   ]
  },
  {
   "cell_type": "code",
   "execution_count": 8,
   "id": "6c2c5437",
   "metadata": {},
   "outputs": [
    {
     "name": "stderr",
     "output_type": "stream",
     "text": [
      "C:\\Users\\NEOWISE\\anaconda3\\lib\\site-packages\\seaborn\\_decorators.py:36: FutureWarning: Pass the following variable as a keyword arg: x. From version 0.12, the only valid positional argument will be `data`, and passing other arguments without an explicit keyword will result in an error or misinterpretation.\n",
      "  warnings.warn(\n"
     ]
    },
    {
     "data": {
      "text/plain": [
       "<AxesSubplot:xlabel='IMDB_Rating', ylabel='count'>"
      ]
     },
     "execution_count": 8,
     "metadata": {},
     "output_type": "execute_result"
    },
    {
     "data": {
      "image/png": "[encoded data removed]",
      "text/plain": [
       "<Figure size 432x288 with 1 Axes>"
      ]
     },
     "metadata": {
      "needs_background": "light"
     },
     "output_type": "display_data"
    }
   ],
   "source": [
    "df.sort_values('IMDB_Rating')\n",
    "sns.countplot(df['IMDB_Rating'])"
   ]
  },
  {
   "cell_type": "code",
   "execution_count": 9,
   "id": "23dcbf07",
   "metadata": {},
   "outputs": [
    {
     "name": "stdout",
     "output_type": "stream",
     "text": [
      "2014    32\n",
      "2004    31\n",
      "2009    29\n",
      "2016    28\n",
      "2013    28\n",
      "        ..\n",
      "1930     1\n",
      "PG       1\n",
      "1926     1\n",
      "1922     1\n",
      "1943     1\n",
      "Name: Released_Year, Length: 100, dtype: int64\n"
     ]
    }
   ],
   "source": [
    "print(df['Released_Year'].value_counts())"
   ]
  },
  {
   "cell_type": "code",
   "execution_count": 19,
   "id": "9d3f9b58",
   "metadata": {},
   "outputs": [],
   "source": [
    "df.replace({'PG':1}, inplace = True)"
   ]
  },
  {
   "cell_type": "code",
   "execution_count": 22,
   "id": "48ce2787",
   "metadata": {},
   "outputs": [],
   "source": [
    "df['Released_Year']= df['Released_Year'].astype(int)"
   ]
  },
  {
   "cell_type": "code",
   "execution_count": 25,
   "id": "a32d512e",
   "metadata": {},
   "outputs": [
    {
     "name": "stdout",
     "output_type": "stream",
     "text": [
      "<class 'pandas.core.frame.DataFrame'>\n",
      "RangeIndex: 1000 entries, 0 to 999\n",
      "Data columns (total 16 columns):\n",
      " #   Column         Non-Null Count  Dtype  \n",
      "---  ------         --------------  -----  \n",
      " 0   Poster_Link    1000 non-null   object \n",
      " 1   Series_Title   1000 non-null   object \n",
      " 2   Released_Year  1000 non-null   int32  \n",
      " 3   Certificate    899 non-null    object \n",
      " 4   Runtime        1000 non-null   object \n",
      " 5   Genre          1000 non-null   object \n",
      " 6   IMDB_Rating    1000 non-null   float64\n",
      " 7   Overview       1000 non-null   object \n",
      " 8   Meta_score     843 non-null    float64\n",
      " 9   Director       1000 non-null   object \n",
      " 10  Star1          1000 non-null   object \n",
      " 11  Star2          1000 non-null   object \n",
      " 12  Star3          1000 non-null   object \n",
      " 13  Star4          1000 non-null   object \n",
      " 14  No_of_Votes    1000 non-null   int64  \n",
      " 15  Gross          831 non-null    object \n",
      "dtypes: float64(2), int32(1), int64(1), object(12)\n",
      "memory usage: 121.2+ KB\n"
     ]
    }
   ],
   "source": [
    "df.info()"
   ]
  },
  {
   "cell_type": "code",
   "execution_count": 26,
   "id": "cb0d5631",
   "metadata": {},
   "outputs": [
    {
     "data": {
      "text/plain": [
       "array([1994, 1972, 2008, 1974, 1957, 2003, 1993, 2010, 1999, 2001, 1966,\n",
       "       2002, 1990, 1980, 1975, 2020, 2019, 2014, 1998, 1997, 1995, 1991,\n",
       "       1977, 1962, 1954, 1946, 2011, 2006, 2000, 1988, 1985, 1968, 1960,\n",
       "       1942, 1936, 1931, 2018, 2017, 2016, 2012, 2009, 2007, 1984, 1981,\n",
       "       1979, 1971, 1963, 1964, 1950, 1940, 2013, 2005, 2004, 1992, 1987,\n",
       "       1986, 1983, 1976, 1973, 1965, 1959, 1958, 1952, 1948, 1944, 1941,\n",
       "       1927, 1921, 2015, 1996, 1989, 1978, 1961, 1955, 1953, 1925, 1924,\n",
       "       1982, 1967, 1951, 1949, 1939, 1937, 1934, 1928, 1926, 1920, 1970,\n",
       "       1969, 1956, 1947, 1945, 1930, 1938, 1935, 1933, 1932, 1922, 1943,\n",
       "          1])"
      ]
     },
     "execution_count": 26,
     "metadata": {},
     "output_type": "execute_result"
    }
   ],
   "source": [
    "df['Released_Year'].unique()"
   ]
  },
  {
   "cell_type": "code",
   "execution_count": 31,
   "id": "48b55c00",
   "metadata": {},
   "outputs": [
    {
     "data": {
      "text/html": [
       "<div>\n",
       "<style scoped>\n",
       "    .dataframe tbody tr th:only-of-type {\n",
       "        vertical-align: middle;\n",
       "    }\n",
       "\n",
       "    .dataframe tbody tr th {\n",
       "        vertical-align: top;\n",
       "    }\n",
       "\n",
       "    .dataframe thead th {\n",
       "        text-align: right;\n",
       "    }\n",
       "</style>\n",
       "<table border=\"1\" class=\"dataframe\">\n",
       "  <thead>\n",
       "    <tr style=\"text-align: right;\">\n",
       "      <th></th>\n",
       "      <th>Poster_Link</th>\n",
       "      <th>Series_Title</th>\n",
       "      <th>Released_Year</th>\n",
       "      <th>Certificate</th>\n",
       "      <th>Runtime</th>\n",
       "      <th>Genre</th>\n",
       "      <th>IMDB_Rating</th>\n",
       "      <th>Overview</th>\n",
       "      <th>Meta_score</th>\n",
       "      <th>Director</th>\n",
       "      <th>Star1</th>\n",
       "      <th>Star2</th>\n",
       "      <th>Star3</th>\n",
       "      <th>Star4</th>\n",
       "      <th>No_of_Votes</th>\n",
       "      <th>Gross</th>\n",
       "    </tr>\n",
       "  </thead>\n",
       "  <tbody>\n",
       "    <tr>\n",
       "      <th>2</th>\n",
       "      <td>https://m.media-amazon.com/images/M/MV5BMTMxNT...</td>\n",
       "      <td>The Dark Knight</td>\n",
       "      <td>2008</td>\n",
       "      <td>UA</td>\n",
       "      <td>152 min</td>\n",
       "      <td>Action, Crime, Drama</td>\n",
       "      <td>9.0</td>\n",
       "      <td>When the menace known as the Joker wreaks havo...</td>\n",
       "      <td>84.0</td>\n",
       "      <td>Christopher Nolan</td>\n",
       "      <td>Christian Bale</td>\n",
       "      <td>Heath Ledger</td>\n",
       "      <td>Aaron Eckhart</td>\n",
       "      <td>Michael Caine</td>\n",
       "      <td>2303232</td>\n",
       "      <td>534,858,444</td>\n",
       "    </tr>\n",
       "    <tr>\n",
       "      <th>8</th>\n",
       "      <td>https://m.media-amazon.com/images/M/MV5BMjAxMz...</td>\n",
       "      <td>Inception</td>\n",
       "      <td>2010</td>\n",
       "      <td>UA</td>\n",
       "      <td>148 min</td>\n",
       "      <td>Action, Adventure, Sci-Fi</td>\n",
       "      <td>8.8</td>\n",
       "      <td>A thief who steals corporate secrets through t...</td>\n",
       "      <td>74.0</td>\n",
       "      <td>Christopher Nolan</td>\n",
       "      <td>Leonardo DiCaprio</td>\n",
       "      <td>Joseph Gordon-Levitt</td>\n",
       "      <td>Elliot Page</td>\n",
       "      <td>Ken Watanabe</td>\n",
       "      <td>2067042</td>\n",
       "      <td>292,576,195</td>\n",
       "    </tr>\n",
       "    <tr>\n",
       "      <th>64</th>\n",
       "      <td>https://m.media-amazon.com/images/M/MV5BNTkyOG...</td>\n",
       "      <td>3 Idiots</td>\n",
       "      <td>2009</td>\n",
       "      <td>UA</td>\n",
       "      <td>170 min</td>\n",
       "      <td>Comedy, Drama</td>\n",
       "      <td>8.4</td>\n",
       "      <td>Two friends are searching for their long lost ...</td>\n",
       "      <td>67.0</td>\n",
       "      <td>Rajkumar Hirani</td>\n",
       "      <td>Aamir Khan</td>\n",
       "      <td>Madhavan</td>\n",
       "      <td>Mona Singh</td>\n",
       "      <td>Sharman Joshi</td>\n",
       "      <td>344445</td>\n",
       "      <td>6,532,908</td>\n",
       "    </tr>\n",
       "    <tr>\n",
       "      <th>66</th>\n",
       "      <td>https://m.media-amazon.com/images/M/MV5BMjExMT...</td>\n",
       "      <td>WALL·E</td>\n",
       "      <td>2008</td>\n",
       "      <td>U</td>\n",
       "      <td>98 min</td>\n",
       "      <td>Animation, Adventure, Family</td>\n",
       "      <td>8.4</td>\n",
       "      <td>In the distant future, a small waste-collectin...</td>\n",
       "      <td>95.0</td>\n",
       "      <td>Andrew Stanton</td>\n",
       "      <td>Ben Burtt</td>\n",
       "      <td>Elissa Knight</td>\n",
       "      <td>Jeff Garlin</td>\n",
       "      <td>Fred Willard</td>\n",
       "      <td>999790</td>\n",
       "      <td>223,808,164</td>\n",
       "    </tr>\n",
       "    <tr>\n",
       "      <th>90</th>\n",
       "      <td>https://m.media-amazon.com/images/M/MV5BMWE3MG...</td>\n",
       "      <td>Incendies</td>\n",
       "      <td>2010</td>\n",
       "      <td>R</td>\n",
       "      <td>131 min</td>\n",
       "      <td>Drama, Mystery, War</td>\n",
       "      <td>8.3</td>\n",
       "      <td>Twins journey to the Middle East to discover t...</td>\n",
       "      <td>80.0</td>\n",
       "      <td>Denis Villeneuve</td>\n",
       "      <td>Lubna Azabal</td>\n",
       "      <td>Mélissa Désormeaux-Poulin</td>\n",
       "      <td>Maxim Gaudette</td>\n",
       "      <td>Mustafa Kamel</td>\n",
       "      <td>150023</td>\n",
       "      <td>6,857,096</td>\n",
       "    </tr>\n",
       "    <tr>\n",
       "      <th>...</th>\n",
       "      <td>...</td>\n",
       "      <td>...</td>\n",
       "      <td>...</td>\n",
       "      <td>...</td>\n",
       "      <td>...</td>\n",
       "      <td>...</td>\n",
       "      <td>...</td>\n",
       "      <td>...</td>\n",
       "      <td>...</td>\n",
       "      <td>...</td>\n",
       "      <td>...</td>\n",
       "      <td>...</td>\n",
       "      <td>...</td>\n",
       "      <td>...</td>\n",
       "      <td>...</td>\n",
       "      <td>...</td>\n",
       "    </tr>\n",
       "    <tr>\n",
       "      <th>917</th>\n",
       "      <td>https://m.media-amazon.com/images/M/MV5BMTU0Nz...</td>\n",
       "      <td>Seven Pounds</td>\n",
       "      <td>2008</td>\n",
       "      <td>UA</td>\n",
       "      <td>123 min</td>\n",
       "      <td>Drama</td>\n",
       "      <td>7.6</td>\n",
       "      <td>A man with a fateful secret embarks on an extr...</td>\n",
       "      <td>36.0</td>\n",
       "      <td>Gabriele Muccino</td>\n",
       "      <td>Will Smith</td>\n",
       "      <td>Rosario Dawson</td>\n",
       "      <td>Woody Harrelson</td>\n",
       "      <td>Michael Ealy</td>\n",
       "      <td>286770</td>\n",
       "      <td>69,951,824</td>\n",
       "    </tr>\n",
       "    <tr>\n",
       "      <th>920</th>\n",
       "      <td>https://m.media-amazon.com/images/M/MV5BMjEzMj...</td>\n",
       "      <td>The Secret of Kells</td>\n",
       "      <td>2009</td>\n",
       "      <td>NaN</td>\n",
       "      <td>71 min</td>\n",
       "      <td>Animation, Adventure, Family</td>\n",
       "      <td>7.6</td>\n",
       "      <td>A young boy in a remote medieval outpost under...</td>\n",
       "      <td>81.0</td>\n",
       "      <td>Tomm Moore</td>\n",
       "      <td>Nora Twomey</td>\n",
       "      <td>Evan McGuire</td>\n",
       "      <td>Brendan Gleeson</td>\n",
       "      <td>Mick Lally</td>\n",
       "      <td>31779</td>\n",
       "      <td>686,383</td>\n",
       "    </tr>\n",
       "    <tr>\n",
       "      <th>927</th>\n",
       "      <td>https://m.media-amazon.com/images/M/MV5BNzU3ND...</td>\n",
       "      <td>Harry Potter and the Half-Blood Prince</td>\n",
       "      <td>2009</td>\n",
       "      <td>UA</td>\n",
       "      <td>153 min</td>\n",
       "      <td>Action, Adventure, Family</td>\n",
       "      <td>7.6</td>\n",
       "      <td>As Harry Potter begins his sixth year at Hogwa...</td>\n",
       "      <td>78.0</td>\n",
       "      <td>David Yates</td>\n",
       "      <td>Daniel Radcliffe</td>\n",
       "      <td>Emma Watson</td>\n",
       "      <td>Rupert Grint</td>\n",
       "      <td>Michael Gambon</td>\n",
       "      <td>474827</td>\n",
       "      <td>301,959,197</td>\n",
       "    </tr>\n",
       "    <tr>\n",
       "      <th>930</th>\n",
       "      <td>https://m.media-amazon.com/images/M/MV5BY2IzNG...</td>\n",
       "      <td>Watchmen</td>\n",
       "      <td>2009</td>\n",
       "      <td>A</td>\n",
       "      <td>162 min</td>\n",
       "      <td>Action, Drama, Mystery</td>\n",
       "      <td>7.6</td>\n",
       "      <td>In 1985 where former superheroes exist, the mu...</td>\n",
       "      <td>56.0</td>\n",
       "      <td>Zack Snyder</td>\n",
       "      <td>Jackie Earle Haley</td>\n",
       "      <td>Patrick Wilson</td>\n",
       "      <td>Carla Gugino</td>\n",
       "      <td>Malin Akerman</td>\n",
       "      <td>500799</td>\n",
       "      <td>107,509,799</td>\n",
       "    </tr>\n",
       "    <tr>\n",
       "      <th>933</th>\n",
       "      <td>https://m.media-amazon.com/images/M/MV5BMjA0Mj...</td>\n",
       "      <td>Synecdoche, New York</td>\n",
       "      <td>2008</td>\n",
       "      <td>R</td>\n",
       "      <td>124 min</td>\n",
       "      <td>Drama</td>\n",
       "      <td>7.6</td>\n",
       "      <td>A theatre director struggles with his work, an...</td>\n",
       "      <td>67.0</td>\n",
       "      <td>Charlie Kaufman</td>\n",
       "      <td>Philip Seymour Hoffman</td>\n",
       "      <td>Samantha Morton</td>\n",
       "      <td>Michelle Williams</td>\n",
       "      <td>Catherine Keener</td>\n",
       "      <td>83158</td>\n",
       "      <td>3,081,925</td>\n",
       "    </tr>\n",
       "  </tbody>\n",
       "</table>\n",
       "<p>73 rows × 16 columns</p>\n",
       "</div>"
      ],
      "text/plain": [
       "                                           Poster_Link  \\\n",
       "2    https://m.media-amazon.com/images/M/MV5BMTMxNT...   \n",
       "8    https://m.media-amazon.com/images/M/MV5BMjAxMz...   \n",
       "64   https://m.media-amazon.com/images/M/MV5BNTkyOG...   \n",
       "66   https://m.media-amazon.com/images/M/MV5BMjExMT...   \n",
       "90   https://m.media-amazon.com/images/M/MV5BMWE3MG...   \n",
       "..                                                 ...   \n",
       "917  https://m.media-amazon.com/images/M/MV5BMTU0Nz...   \n",
       "920  https://m.media-amazon.com/images/M/MV5BMjEzMj...   \n",
       "927  https://m.media-amazon.com/images/M/MV5BNzU3ND...   \n",
       "930  https://m.media-amazon.com/images/M/MV5BY2IzNG...   \n",
       "933  https://m.media-amazon.com/images/M/MV5BMjA0Mj...   \n",
       "\n",
       "                               Series_Title  Released_Year Certificate  \\\n",
       "2                           The Dark Knight           2008          UA   \n",
       "8                                 Inception           2010          UA   \n",
       "64                                 3 Idiots           2009          UA   \n",
       "66                                   WALL·E           2008           U   \n",
       "90                                Incendies           2010           R   \n",
       "..                                      ...            ...         ...   \n",
       "917                            Seven Pounds           2008          UA   \n",
       "920                     The Secret of Kells           2009         NaN   \n",
       "927  Harry Potter and the Half-Blood Prince           2009          UA   \n",
       "930                                Watchmen           2009           A   \n",
       "933                    Synecdoche, New York           2008           R   \n",
       "\n",
       "     Runtime                         Genre  IMDB_Rating  \\\n",
       "2    152 min          Action, Crime, Drama          9.0   \n",
       "8    148 min     Action, Adventure, Sci-Fi          8.8   \n",
       "64   170 min                 Comedy, Drama          8.4   \n",
       "66    98 min  Animation, Adventure, Family          8.4   \n",
       "90   131 min           Drama, Mystery, War          8.3   \n",
       "..       ...                           ...          ...   \n",
       "917  123 min                         Drama          7.6   \n",
       "920   71 min  Animation, Adventure, Family          7.6   \n",
       "927  153 min     Action, Adventure, Family          7.6   \n",
       "930  162 min        Action, Drama, Mystery          7.6   \n",
       "933  124 min                         Drama          7.6   \n",
       "\n",
       "                                              Overview  Meta_score  \\\n",
       "2    When the menace known as the Joker wreaks havo...        84.0   \n",
       "8    A thief who steals corporate secrets through t...        74.0   \n",
       "64   Two friends are searching for their long lost ...        67.0   \n",
       "66   In the distant future, a small waste-collectin...        95.0   \n",
       "90   Twins journey to the Middle East to discover t...        80.0   \n",
       "..                                                 ...         ...   \n",
       "917  A man with a fateful secret embarks on an extr...        36.0   \n",
       "920  A young boy in a remote medieval outpost under...        81.0   \n",
       "927  As Harry Potter begins his sixth year at Hogwa...        78.0   \n",
       "930  In 1985 where former superheroes exist, the mu...        56.0   \n",
       "933  A theatre director struggles with his work, an...        67.0   \n",
       "\n",
       "              Director                   Star1                      Star2  \\\n",
       "2    Christopher Nolan          Christian Bale               Heath Ledger   \n",
       "8    Christopher Nolan       Leonardo DiCaprio       Joseph Gordon-Levitt   \n",
       "64     Rajkumar Hirani              Aamir Khan                   Madhavan   \n",
       "66      Andrew Stanton               Ben Burtt              Elissa Knight   \n",
       "90    Denis Villeneuve            Lubna Azabal  Mélissa Désormeaux-Poulin   \n",
       "..                 ...                     ...                        ...   \n",
       "917   Gabriele Muccino              Will Smith             Rosario Dawson   \n",
       "920         Tomm Moore             Nora Twomey               Evan McGuire   \n",
       "927        David Yates        Daniel Radcliffe                Emma Watson   \n",
       "930        Zack Snyder      Jackie Earle Haley             Patrick Wilson   \n",
       "933    Charlie Kaufman  Philip Seymour Hoffman            Samantha Morton   \n",
       "\n",
       "                 Star3             Star4  No_of_Votes        Gross  \n",
       "2        Aaron Eckhart     Michael Caine      2303232  534,858,444  \n",
       "8          Elliot Page      Ken Watanabe      2067042  292,576,195  \n",
       "64          Mona Singh     Sharman Joshi       344445    6,532,908  \n",
       "66         Jeff Garlin      Fred Willard       999790  223,808,164  \n",
       "90      Maxim Gaudette     Mustafa Kamel       150023    6,857,096  \n",
       "..                 ...               ...          ...          ...  \n",
       "917    Woody Harrelson      Michael Ealy       286770   69,951,824  \n",
       "920    Brendan Gleeson        Mick Lally        31779      686,383  \n",
       "927       Rupert Grint    Michael Gambon       474827  301,959,197  \n",
       "930       Carla Gugino     Malin Akerman       500799  107,509,799  \n",
       "933  Michelle Williams  Catherine Keener        83158    3,081,925  \n",
       "\n",
       "[73 rows x 16 columns]"
      ]
     },
     "execution_count": 31,
     "metadata": {},
     "output_type": "execute_result"
    }
   ],
   "source": [
    "df[(df['Released_Year'] >= 2008) & (df['Released_Year'] <= 2010)]"
   ]
  },
  {
   "cell_type": "code",
   "execution_count": 35,
   "id": "458c02d6",
   "metadata": {},
   "outputs": [
    {
     "name": "stdout",
     "output_type": "stream",
     "text": [
      "76.0    32\n",
      "84.0    29\n",
      "90.0    29\n",
      "86.0    27\n",
      "72.0    27\n",
      "        ..\n",
      "44.0     1\n",
      "41.0     1\n",
      "33.0     1\n",
      "40.0     1\n",
      "48.0     1\n",
      "Name: Meta_score, Length: 63, dtype: int64\n"
     ]
    },
    {
     "name": "stderr",
     "output_type": "stream",
     "text": [
      "C:\\Users\\NEOWISE\\anaconda3\\lib\\site-packages\\seaborn\\_decorators.py:36: FutureWarning: Pass the following variable as a keyword arg: x. From version 0.12, the only valid positional argument will be `data`, and passing other arguments without an explicit keyword will result in an error or misinterpretation.\n",
      "  warnings.warn(\n"
     ]
    },
    {
     "data": {
      "text/plain": [
       "<AxesSubplot:xlabel='Genre', ylabel='count'>"
      ]
     },
     "execution_count": 35,
     "metadata": {},
     "output_type": "execute_result"
    },
    {
     "data": {
      "image/png": "[encoded data removed]",
      "text/plain": [
       "<Figure size 432x288 with 1 Axes>"
      ]
     },
     "metadata": {
      "needs_background": "light"
     },
     "output_type": "display_data"
    }
   ],
   "source": [
    "print(df['Meta_score'].value_counts())\n",
    "sns.countplot(df['Genre'])"
   ]
  },
  {
   "cell_type": "code",
   "execution_count": null,
   "id": "c01eec2a",
   "metadata": {},
   "outputs": [],
   "source": [
    "df['']"
   ]
  }
 ],
 "metadata": {
  "kernelspec": {
   "display_name": "Python 3",
   "language": "python",
   "name": "python3"
  },
  "language_info": {
   "codemirror_mode": {
    "name": "ipython",
    "version": 3
   },
   "file_extension": ".py",
   "mimetype": "text/x-python",
   "name": "python",
   "nbconvert_exporter": "python",
   "pygments_lexer": "ipython3",
   "version": "3.8.3"
  }
 },
 "nbformat": 4,
 "nbformat_minor": 5
}
